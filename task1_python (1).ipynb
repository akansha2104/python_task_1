{
 "cells": [
  {
   "cell_type": "markdown",
   "id": "614a7b7b-4a31-426d-b825-57e00fc1bc97",
   "metadata": {},
   "source": [
    "# heading synatx"
   ]
  },
  {
   "cell_type": "markdown",
   "id": "df90e082-ed9f-4d52-baf7-edb5d5fbbb8f",
   "metadata": {},
   "source": [
    "## This is the first task of python\n",
    " where we are using different different markdown syntax"
   ]
  },
  {
   "cell_type": "markdown",
   "id": "edeb3454-1dbb-4d47-80d3-67a9007d9c19",
   "metadata": {},
   "source": [
    "# bold syntax"
   ]
  },
  {
   "cell_type": "markdown",
   "id": "81ede463-d9ed-42e6-bcb7-35d6eaf8a2be",
   "metadata": {},
   "source": [
    "**I am learning data analytics**"
   ]
  },
  {
   "cell_type": "markdown",
   "id": "223266bb-28c8-44ed-b238-479e415c6146",
   "metadata": {},
   "source": [
    "## to make  the content italics"
   ]
  },
  {
   "cell_type": "markdown",
   "id": "1827c688-ff86-40d2-9e33-2b7d9c6af6a4",
   "metadata": {},
   "source": [
    "# italics syntax"
   ]
  },
  {
   "cell_type": "markdown",
   "id": "7bd03e09-0f1d-4873-aa1d-2295b6b3708e",
   "metadata": {},
   "source": [
    "*Arc technologies* "
   ]
  },
  {
   "cell_type": "markdown",
   "id": "c4aa9854-a5ea-46b8-bece-90cbd0162d03",
   "metadata": {},
   "source": [
    "## both bold and itaclics syntax"
   ]
  },
  {
   "cell_type": "markdown",
   "id": "eb2bbcaf-40f2-4db6-aed0-cd3e273655d0",
   "metadata": {},
   "source": [
    "*I am learning data analytics* in **ARC TECHNOLOGIES** "
   ]
  },
  {
   "cell_type": "markdown",
   "id": "53db122b-0078-4beb-937a-0929639fbb4c",
   "metadata": {},
   "source": [
    "## LISTS"
   ]
  },
  {
   "cell_type": "markdown",
   "id": "7e224fee-2058-4f71-a290-9cceaa1f694a",
   "metadata": {},
   "source": [
    "1. First item\r\n",
    "2. Second item\r\n",
    "3. Third item\r\n",
    "    1. Sub-item one\r\n",
    "    2. Sub-item two\r\n",
    "4. Fourth item\r\n",
    "item\r\n"
   ]
  },
  {
   "cell_type": "markdown",
   "id": "b9c6f6e3-173d-4c1f-bcab-41789a5d74b6",
   "metadata": {},
   "source": [
    "# tables"
   ]
  },
  {
   "cell_type": "markdown",
   "id": "9657835c-ad11-42f5-9cdb-5e9b190c55eb",
   "metadata": {},
   "source": [
    "| Column 1 | Column 2 | Column 3 |\n",
    "|----------|----------|----------|\n",
    "| veges    | tomatato | potato   |\n",
    "| fruit    | mango    | apple    |\n"
   ]
  },
  {
   "cell_type": "markdown",
   "id": "640728a6-ee47-4413-9c31-a2820cfa8ebf",
   "metadata": {},
   "source": [
    "# bullets"
   ]
  },
  {
   "cell_type": "markdown",
   "id": "1e64f00a-c175-4214-b3a2-e4e79303e977",
   "metadata": {},
   "source": [
    "* i am tall\n",
    "* he is taller\n",
    "* he is the tallest"
   ]
  },
  {
   "cell_type": "markdown",
   "id": "7fc780d1-41b5-4ee5-8b8f-812322cc6177",
   "metadata": {},
   "source": [
    "# links"
   ]
  },
  {
   "cell_type": "markdown",
   "id": "4c21381e-1ebf-4885-8ffe-da3e4d7dafcf",
   "metadata": {},
   "source": [
    "[arc technologies](https://www.arctechs.in/)"
   ]
  },
  {
   "cell_type": "markdown",
   "id": "7f7a0227-6719-42e4-92b9-a47a986d8a52",
   "metadata": {},
   "source": [
    "# images"
   ]
  },
  {
   "cell_type": "markdown",
   "id": "ed36db11-b8af-4685-9b8d-aca05598a29f",
   "metadata": {},
   "source": [
    "![Alt Text](https://google.com/image.jpg)\n"
   ]
  },
  {
   "cell_type": "markdown",
   "id": "f4b7ccc3-277b-44da-818b-1c861c72cc63",
   "metadata": {},
   "source": [
    "# task lists"
   ]
  },
  {
   "cell_type": "markdown",
   "id": "2b43f6e4-c9bd-4134-a5a3-56c23dd1ae39",
   "metadata": {},
   "source": [
    "- [x] Completed task\n",
    "- [ ] Incomplete task\n"
   ]
  },
  {
   "cell_type": "markdown",
   "id": "8cb5efb3-8fd7-4f6a-a7ce-2edcc3f71ee7",
   "metadata": {},
   "source": [
    "# mathematical expression"
   ]
  },
  {
   "cell_type": "markdown",
   "id": "4a674f92-86ba-4671-b0f1-abbcff421b0c",
   "metadata": {},
   "source": [
    "The equation is $E=mc^2$.\r\n",
    "\n",
    "\r\n"
   ]
  },
  {
   "cell_type": "markdown",
   "id": "e7980931-9371-471e-a0f5-d940f9afecae",
   "metadata": {},
   "source": [
    "# Strike through"
   ]
  },
  {
   "cell_type": "markdown",
   "id": "af3d6b5a-6bea-4d45-a390-62cc95d46b5b",
   "metadata": {},
   "source": [
    "~~This text is strikethrough~~"
   ]
  },
  {
   "cell_type": "markdown",
   "id": "4d4f0d61-af97-442c-bfc3-3cf71cdcfb69",
   "metadata": {},
   "source": [
    "# code"
   ]
  },
  {
   "cell_type": "markdown",
   "id": "786e8622-e599-40e4-bfc6-5d1a7f8d99a3",
   "metadata": {},
   "source": [
    "```python\n",
    "def hello_world():\n",
    "    print(\"Hello, world!\")\n",
    "```\n"
   ]
  },
  {
   "cell_type": "markdown",
   "id": "0b62319b-bb54-4ac8-8170-ce1a49733107",
   "metadata": {},
   "source": [
    "# comments"
   ]
  },
  {
   "cell_type": "markdown",
   "id": "97073d79-2606-44d4-b76d-b34dd7f26e67",
   "metadata": {},
   "source": [
    "### This is a comment in Python\n"
   ]
  },
  {
   "cell_type": "markdown",
   "id": "27b97340-2288-4cee-969d-6e45b58c6477",
   "metadata": {},
   "source": [
    "# highlight"
   ]
  },
  {
   "cell_type": "markdown",
   "id": "0e0ab32f-f4de-4201-8bfe-daabf87a522d",
   "metadata": {},
   "source": [
    "I love my <mark>INDIA<mark>."
   ]
  },
  {
   "cell_type": "markdown",
   "id": "6b0ff7cd-bbfa-4d43-a6f0-db8514d56f80",
   "metadata": {},
   "source": [
    "# superscript"
   ]
  },
  {
   "cell_type": "markdown",
   "id": "f4cc0105-7095-4241-b467-a1c59f07c143",
   "metadata": {},
   "source": [
    "1<sup>2</sup>3<sup>4</sup>5"
   ]
  },
  {
   "cell_type": "code",
   "execution_count": null,
   "id": "131685ac-d195-4a1a-95b0-c0c56d2afb54",
   "metadata": {},
   "outputs": [],
   "source": []
  }
 ],
 "metadata": {
  "kernelspec": {
   "display_name": "Python 3 (ipykernel)",
   "language": "python",
   "name": "python3"
  },
  "language_info": {
   "codemirror_mode": {
    "name": "ipython",
    "version": 3
   },
   "file_extension": ".py",
   "mimetype": "text/x-python",
   "name": "python",
   "nbconvert_exporter": "python",
   "pygments_lexer": "ipython3",
   "version": "3.12.4"
  }
 },
 "nbformat": 4,
 "nbformat_minor": 5
}
